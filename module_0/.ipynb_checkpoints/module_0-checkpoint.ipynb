{
 "cells": [
  {
   "cell_type": "code",
   "execution_count": 1,
   "metadata": {},
   "outputs": [
    {
     "name": "stdout",
     "output_type": "stream",
     "text": [
      "Ваш алгоритм угадывает число в среднем за 10 попыток\n",
      "Ваш алгоритм угадывает число в среднем за 6 попыток\n"
     ]
    },
    {
     "data": {
      "text/plain": [
       "6"
      ]
     },
     "execution_count": 1,
     "metadata": {},
     "output_type": "execute_result"
    }
   ],
   "source": [
    "import numpy as np\n",
    "number = np.random.randint(1,101)\n",
    "def score_game(game_core):\n",
    "    '''Запускаем игру 1000 раз, чтобы узнать, как быстро игра угадывает число'''\n",
    "    count_ls = []\n",
    "    np.random.seed(1)  # фиксируем RANDOM SEED, чтобы ваш эксперимент был воспроизводим!\n",
    "    random_array = np.random.randint(1,101, size=(1000))\n",
    "    for number in random_array:\n",
    "        count_ls.append(game_core(number))\n",
    "    score = int(np.mean(count_ls))\n",
    "    print(f\"Ваш алгоритм угадывает число в среднем за {score} попыток\")\n",
    "    return(score)\n",
    "\n",
    "def game_core_rub(number):\n",
    "    #Алгоритм на основе данного в примере, просто с другими коэффициентами.\n",
    "    #+5 и -4 выдает самый быстрый вариант, в сравнении с примером с +1 -1.\n",
    "    count = 1\n",
    "    predict = 50\n",
    "    while number != predict:\n",
    "        count +=1\n",
    "        if number > predict:\n",
    "            predict += 5\n",
    "        elif number<predict:\n",
    "            predict -= 4\n",
    "    return(count)\n",
    "\n",
    "\n",
    "def game_core_rub_v2(number):\n",
    "    #Самый быстрый вариант с бисекцией - делением искомого диапазона пополам после каждой попытки угадать.\n",
    "    #Попыток необходимо почти в 2 раза меньше (6 против 10 для таких условий теста)\n",
    "    count = 1\n",
    "    mini = 1 #Минимальное значение диапазона поиска\n",
    "    maxi = 100 #Максимальное значение диапазона поиска\n",
    "    guess = (mini+maxi)//2\n",
    "    while guess!=number:\n",
    "        count+=1\n",
    "        guess = (mini+maxi)//2\n",
    "        if number > guess:\n",
    "            mini = (mini+maxi)//2 + 1\n",
    "        elif number<guess:\n",
    "            maxi = (mini+maxi)//2 - 1\n",
    "    return(count)\n",
    "\n",
    "\n",
    "score_game(game_core_rub)\n",
    "score_game(game_core_rub_v2)"
   ]
  },
  {
   "cell_type": "code",
   "execution_count": null,
   "metadata": {},
   "outputs": [],
   "source": []
  }
 ],
 "metadata": {
  "kernelspec": {
   "display_name": "Python 3",
   "language": "python",
   "name": "python3"
  },
  "language_info": {
   "codemirror_mode": {
    "name": "ipython",
    "version": 3
   },
   "file_extension": ".py",
   "mimetype": "text/x-python",
   "name": "python",
   "nbconvert_exporter": "python",
   "pygments_lexer": "ipython3",
   "version": "3.7.6"
  }
 },
 "nbformat": 4,
 "nbformat_minor": 4
}
